{
  "nbformat": 4,
  "nbformat_minor": 0,
  "metadata": {
    "colab": {
      "provenance": []
    },
    "kernelspec": {
      "name": "python3",
      "display_name": "Python 3"
    },
    "language_info": {
      "name": "python"
    }
  },
  "cells": [
    {
      "cell_type": "markdown",
      "source": [
        "#Statistics Basics Practicals Answers"
      ],
      "metadata": {
        "id": "GANthrrAbf_f"
      }
    },
    {
      "cell_type": "markdown",
      "source": [
        "###1. How do you calculate the mean, median, and mode of a dataset?"
      ],
      "metadata": {
        "id": "oX0ROUlwcwI1"
      }
    },
    {
      "cell_type": "code",
      "source": [
        "import pandas as pd\n",
        "\n",
        "data = pd.Series([10, 20, 20, 40, 50])\n",
        "print(\"Mean:\", data.mean())\n",
        "print(\"Median:\", data.median())\n",
        "print(\"Mode:\", data.mode().tolist())\n"
      ],
      "metadata": {
        "colab": {
          "base_uri": "https://localhost:8080/"
        },
        "id": "w0LDLZa2vk_j",
        "outputId": "8a12b68a-7c67-4e34-9940-abbf96cc3e9e"
      },
      "execution_count": null,
      "outputs": [
        {
          "output_type": "stream",
          "name": "stdout",
          "text": [
            "Mean: 28.0\n",
            "Median: 20.0\n",
            "Mode: [20]\n"
          ]
        }
      ]
    },
    {
      "cell_type": "markdown",
      "source": [
        "###2.Write a Python program to compute the variance and standard deviation of a dataset"
      ],
      "metadata": {
        "id": "Xd7NYya3msUu"
      }
    },
    {
      "cell_type": "code",
      "source": [
        "print(\"Variance:\", data.var())\n",
        "print(\"Standard Deviation:\", data.std())\n"
      ],
      "metadata": {
        "colab": {
          "base_uri": "https://localhost:8080/"
        },
        "id": "Aos7VNgbvnUT",
        "outputId": "d5a0e6af-cf37-49fb-f27e-09441bb05dbb"
      },
      "execution_count": null,
      "outputs": [
        {
          "output_type": "stream",
          "name": "stdout",
          "text": [
            "Variance: 270.0\n",
            "Standard Deviation: 16.431676725154983\n"
          ]
        }
      ]
    },
    {
      "cell_type": "markdown",
      "source": [
        "###3. Create a dataset and classify it into nominal, ordinal, interval, and ratio types."
      ],
      "metadata": {
        "id": "yEe95teevuLj"
      }
    },
    {
      "cell_type": "code",
      "source": [
        "dataset = {\n",
        "    'Nominal': ['Red', 'Blue', 'Green'],\n",
        "    'Ordinal': ['Low', 'Medium', 'High'],\n",
        "    'Interval': [10, 20, 30],  # No true zero\n",
        "    'Ratio': [100, 200, 300]   # Has a true zero\n",
        "}\n",
        "df = pd.DataFrame(dataset)\n",
        "print(df)\n"
      ],
      "metadata": {
        "colab": {
          "base_uri": "https://localhost:8080/"
        },
        "id": "MA2SdrJ4v3gL",
        "outputId": "844ecba9-8160-4bd7-ff39-f58707594e67"
      },
      "execution_count": null,
      "outputs": [
        {
          "output_type": "stream",
          "name": "stdout",
          "text": [
            "  Nominal Ordinal  Interval  Ratio\n",
            "0     Red     Low        10    100\n",
            "1    Blue  Medium        20    200\n",
            "2   Green    High        30    300\n"
          ]
        }
      ]
    },
    {
      "cell_type": "markdown",
      "source": [
        "###4. Implement sampling techniques like random sampling and stratified sampling."
      ],
      "metadata": {
        "id": "UEPhi3gfv7ya"
      }
    },
    {
      "cell_type": "code",
      "source": [
        "#Random Sampling\n",
        "import pandas as pd\n",
        "\n",
        "# Create sample dataset\n",
        "data = {'ID': range(1, 11), 'Value': range(101, 111)}\n",
        "df = pd.DataFrame(data)\n",
        "\n",
        "# Random sampling: Select 5 random rows\n",
        "random_sample = df.sample(n=5, random_state=1)\n",
        "\n",
        "print(\"=== Random Sampling ===\")\n",
        "print(random_sample)\n",
        "\n",
        "\n"
      ],
      "metadata": {
        "colab": {
          "base_uri": "https://localhost:8080/"
        },
        "id": "dFx825egv_Fi",
        "outputId": "9d1879d1-efb3-43c7-c741-b5ac92889ae9"
      },
      "execution_count": 27,
      "outputs": [
        {
          "output_type": "stream",
          "name": "stdout",
          "text": [
            "=== Random Sampling ===\n",
            "   ID  Value\n",
            "2   3    103\n",
            "9  10    110\n",
            "6   7    107\n",
            "4   5    105\n",
            "0   1    101\n"
          ]
        }
      ]
    },
    {
      "cell_type": "code",
      "source": [
        "#Stratified Sampling\n",
        "import pandas as pd\n",
        "from sklearn.model_selection import train_test_split\n",
        "\n",
        "# Create a sample dataset with categories\n",
        "data = {\n",
        "    'ID': range(1, 16),\n",
        "    'Category': ['A'] * 5 + ['B'] * 5 + ['C'] * 5,\n",
        "    'Value': range(101, 116)\n",
        "}\n",
        "df = pd.DataFrame(data)\n",
        "\n",
        "# Stratified sampling: take 40% of the data, stratified by 'Category'\n",
        "stratified_sample, _ = train_test_split(\n",
        "    df,\n",
        "    test_size=0.6,  # Keep 40%\n",
        "    stratify=df['Category'],\n",
        "    random_state=1\n",
        ")\n",
        "\n",
        "print(\"\\n=== Stratified Sampling ===\")\n",
        "print(stratified_sample)\n",
        "print(\"\\nCategory Counts:\\n\", stratified_sample['Category'].value_counts())\n",
        "\n"
      ],
      "metadata": {
        "colab": {
          "base_uri": "https://localhost:8080/"
        },
        "id": "K1QoBZ0Q2NYj",
        "outputId": "1d2fa0e9-91d5-4d5a-c6ca-d36f7e9955c1"
      },
      "execution_count": 28,
      "outputs": [
        {
          "output_type": "stream",
          "name": "stdout",
          "text": [
            "\n",
            "=== Stratified Sampling ===\n",
            "    ID Category  Value\n",
            "7    8        B    108\n",
            "2    3        A    103\n",
            "1    2        A    102\n",
            "5    6        B    106\n",
            "12  13        C    113\n",
            "13  14        C    114\n",
            "\n",
            "Category Counts:\n",
            " Category\n",
            "B    2\n",
            "A    2\n",
            "C    2\n",
            "Name: count, dtype: int64\n"
          ]
        }
      ]
    },
    {
      "cell_type": "markdown",
      "source": [
        "###5. Write a Python function to calculate the range of a dataset."
      ],
      "metadata": {
        "id": "n4EhFLmkwDaD"
      }
    },
    {
      "cell_type": "code",
      "source": [
        "def calculate_range(series):\n",
        "    return series.max() - series.min()\n",
        "\n",
        "print(\"Range:\", calculate_range(data))\n"
      ],
      "metadata": {
        "colab": {
          "base_uri": "https://localhost:8080/"
        },
        "id": "Pup9og7ZwG5v",
        "outputId": "b8c91c47-710d-4722-b633-542ca2ef1270"
      },
      "execution_count": null,
      "outputs": [
        {
          "output_type": "stream",
          "name": "stdout",
          "text": [
            "Range: 40\n"
          ]
        }
      ]
    },
    {
      "cell_type": "markdown",
      "source": [
        "###6. Create a dataset and plot its histogram to visualize skewness."
      ],
      "metadata": {
        "id": "sYslNBupwLHm"
      }
    },
    {
      "cell_type": "code",
      "source": [
        "import matplotlib.pyplot as plt\n",
        "\n",
        "data.plot(kind='hist', bins=5, title='Histogram')\n",
        "plt.show()\n"
      ],
      "metadata": {
        "colab": {
          "base_uri": "https://localhost:8080/",
          "height": 452
        },
        "id": "9UKQrvPwwQ8E",
        "outputId": "67a73bf8-7b6e-4e1e-b85e-e1582573b4e4"
      },
      "execution_count": null,
      "outputs": [
        {
          "output_type": "display_data",
          "data": {
            "text/plain": [
              "<Figure size 640x480 with 1 Axes>"
            ],
            "image/png": "[encoded data removed]"
          },
          "metadata": {}
        }
      ]
    },
    {
      "cell_type": "markdown",
      "source": [
        "###7. Calculate skewness and kurtosis of a dataset using Python libraries."
      ],
      "metadata": {
        "id": "11ZGH8vPwjzC"
      }
    },
    {
      "cell_type": "code",
      "source": [
        "print(\"Skewness:\", data.skew())\n",
        "print(\"Kurtosis:\", data.kurt())\n"
      ],
      "metadata": {
        "colab": {
          "base_uri": "https://localhost:8080/"
        },
        "id": "JNp6crlvwq4J",
        "outputId": "23a95e9e-f68e-47db-b5b1-12f274cd2781"
      },
      "execution_count": null,
      "outputs": [
        {
          "output_type": "stream",
          "name": "stdout",
          "text": [
            "Skewness: 0.5184205276797869\n",
            "Kurtosis: -1.6872427983539096\n"
          ]
        }
      ]
    },
    {
      "cell_type": "markdown",
      "source": [
        "###8. Generate a dataset and demonstrate positive and negative skewness."
      ],
      "metadata": {
        "id": "-DWTxiQVwtyi"
      }
    },
    {
      "cell_type": "code",
      "source": [
        "positive_skew = pd.Series([1, 2, 3, 4, 5, 100])\n",
        "negative_skew = pd.Series([100, 95, 90, 80, 70, 10])\n",
        "\n",
        "print(\"Positive skewness:\", positive_skew.skew())\n",
        "print(\"Negative skewness:\", negative_skew.skew())\n"
      ],
      "metadata": {
        "colab": {
          "base_uri": "https://localhost:8080/"
        },
        "id": "XWef3gRuwySW",
        "outputId": "2b5d25af-dee3-485d-be8f-87d408f57163"
      },
      "execution_count": null,
      "outputs": [
        {
          "output_type": "stream",
          "name": "stdout",
          "text": [
            "Positive skewness: 2.4424726389451163\n",
            "Negative skewness: -1.9118328988208757\n"
          ]
        }
      ]
    },
    {
      "cell_type": "markdown",
      "source": [
        "###9.  Write a Python script to calculate covariance between two datasets."
      ],
      "metadata": {
        "id": "_ANYhfA3w0v7"
      }
    },
    {
      "cell_type": "code",
      "source": [
        "x = pd.Series([1, 2, 3, 4, 5])\n",
        "y = pd.Series([2, 4, 6, 8, 10])\n",
        "cov_matrix = pd.concat([x, y], axis=1).cov()\n",
        "print(\"Covariance:\\n\", cov_matrix)\n"
      ],
      "metadata": {
        "colab": {
          "base_uri": "https://localhost:8080/"
        },
        "id": "lqHNsBO5w4GE",
        "outputId": "9cd23e02-6d7f-45d4-afb6-9d4a8402e5c5"
      },
      "execution_count": null,
      "outputs": [
        {
          "output_type": "stream",
          "name": "stdout",
          "text": [
            "Covariance:\n",
            "      0     1\n",
            "0  2.5   5.0\n",
            "1  5.0  10.0\n"
          ]
        }
      ]
    },
    {
      "cell_type": "markdown",
      "source": [
        "###10. Write a Python script to calculate the correlation coefficient between two datasets."
      ],
      "metadata": {
        "id": "wiTZMJCaxCgS"
      }
    },
    {
      "cell_type": "code",
      "source": [
        "correlation = x.corr(y)\n",
        "print(\"Correlation Coefficient:\", correlation)\n"
      ],
      "metadata": {
        "colab": {
          "base_uri": "https://localhost:8080/"
        },
        "id": "IncPImHTxFfC",
        "outputId": "406172e5-232c-47fa-98e2-e3a6625487c5"
      },
      "execution_count": null,
      "outputs": [
        {
          "output_type": "stream",
          "name": "stdout",
          "text": [
            "Correlation Coefficient: 0.9999999999999999\n"
          ]
        }
      ]
    },
    {
      "cell_type": "markdown",
      "source": [
        "###11. Create a scatter plot to visualize the relationship between two variables."
      ],
      "metadata": {
        "id": "73_yKrK2xIg7"
      }
    },
    {
      "cell_type": "code",
      "source": [
        "plt.scatter(x, y)\n",
        "plt.title(\"Scatter Plot\")\n",
        "plt.xlabel(\"X\")\n",
        "plt.ylabel(\"Y\")\n",
        "plt.show()\n"
      ],
      "metadata": {
        "colab": {
          "base_uri": "https://localhost:8080/",
          "height": 472
        },
        "id": "IErPqd41xL4X",
        "outputId": "c65721b1-db07-4c52-8d3e-f5bfeaaad247"
      },
      "execution_count": null,
      "outputs": [
        {
          "output_type": "display_data",
          "data": {
            "text/plain": [
              "<Figure size 640x480 with 1 Axes>"
            ],
            "image/png": "[encoded data removed]"
          },
          "metadata": {}
        }
      ]
    },
    {
      "cell_type": "markdown",
      "source": [
        "###12.  Implement and compare simple random sampling and systematic sampling."
      ],
      "metadata": {
        "id": "LIzIl2JGxQJT"
      }
    },
    {
      "cell_type": "code",
      "source": [
        "import pandas as pd\n",
        "\n",
        "# Sample dataset\n",
        "df = pd.DataFrame({\n",
        "    'ID': range(1, 11),  # IDs from 1 to 10\n",
        "    'Value': [10, 20, 15, 30, 25, 35, 40, 45, 50, 55]\n",
        "})\n",
        "\n",
        "# Simple Random Sampling (select 3 random rows)\n",
        "simple_random_sample = df.sample(n=3, random_state=1)\n",
        "print(\"Simple Random Sample:\\n\", simple_random_sample)\n",
        "\n",
        "# Systematic Sampling (every 3rd element)\n",
        "systematic_sample = df.iloc[::3]\n",
        "print(\"\\nSystematic Sample:\\n\", systematic_sample)\n"
      ],
      "metadata": {
        "colab": {
          "base_uri": "https://localhost:8080/"
        },
        "id": "TxYFFatwxUtH",
        "outputId": "279290d6-dafa-4bfc-bda6-622e05039f94"
      },
      "execution_count": null,
      "outputs": [
        {
          "output_type": "stream",
          "name": "stdout",
          "text": [
            "Simple Random Sample:\n",
            "    ID  Value\n",
            "2   3     15\n",
            "9  10     55\n",
            "6   7     40\n",
            "\n",
            "Systematic Sample:\n",
            "    ID  Value\n",
            "0   1     10\n",
            "3   4     30\n",
            "6   7     40\n",
            "9  10     55\n"
          ]
        }
      ]
    },
    {
      "cell_type": "markdown",
      "source": [
        "###13. Calculate the mean, median, and mode of grouped data."
      ],
      "metadata": {
        "id": "tAulR7hNxhOr"
      }
    },
    {
      "cell_type": "code",
      "source": [
        "# Example grouped data (class midpoints and frequencies)\n",
        "grouped = pd.DataFrame({\n",
        "    'Midpoint': [15, 25, 35],\n",
        "    'Frequency': [5, 10, 5]\n",
        "})\n",
        "\n",
        "mean_grouped = (grouped['Midpoint'] * grouped['Frequency']).sum() / grouped['Frequency'].sum()\n",
        "print(\"Grouped Mean:\", mean_grouped)\n"
      ],
      "metadata": {
        "colab": {
          "base_uri": "https://localhost:8080/"
        },
        "id": "Ic9JuPTOxdcd",
        "outputId": "8411bcf0-dbd2-4e4b-8d77-8e75533ca5b6"
      },
      "execution_count": null,
      "outputs": [
        {
          "output_type": "stream",
          "name": "stdout",
          "text": [
            "Grouped Mean: 25.0\n"
          ]
        }
      ]
    },
    {
      "cell_type": "markdown",
      "source": [
        "###14. Simulate data using Python and calculate its central tendency and dispersion."
      ],
      "metadata": {
        "id": "bTBA3KQXxnky"
      }
    },
    {
      "cell_type": "code",
      "source": [
        "import numpy as np\n",
        "\n",
        "simulated_data = pd.Series(np.random.normal(loc=50, scale=10, size=100))\n",
        "print(\"Mean:\", simulated_data.mean())\n",
        "print(\"Median:\", simulated_data.median())\n",
        "print(\"Mode:\", simulated_data.mode().iloc[0])\n",
        "print(\"Std Dev:\", simulated_data.std())\n",
        "print(\"Variance:\", simulated_data.var())\n"
      ],
      "metadata": {
        "colab": {
          "base_uri": "https://localhost:8080/"
        },
        "id": "vfdunqWsxlZc",
        "outputId": "06c2c7df-dcd0-4f21-c0c3-23877558768a"
      },
      "execution_count": null,
      "outputs": [
        {
          "output_type": "stream",
          "name": "stdout",
          "text": [
            "Mean: 49.73060710697384\n",
            "Median: 49.1396553274331\n",
            "Mode: 30.28115118485689\n",
            "Std Dev: 8.244688157542374\n",
            "Variance: 67.97488281511947\n"
          ]
        }
      ]
    },
    {
      "cell_type": "markdown",
      "source": [
        "###15. Use NumPy or pandas to summarize a dataset’s descriptive statistics."
      ],
      "metadata": {
        "id": "bBrQc-WzyGlj"
      }
    },
    {
      "cell_type": "code",
      "source": [
        "import pandas as pd\n",
        "import numpy as np\n",
        "\n",
        "data = pd.Series([10, 20, 30, 40, 50])\n",
        "print(data.describe())  # pandas summary\n",
        "print(\"NumPy Mean:\", np.mean(data))\n"
      ],
      "metadata": {
        "colab": {
          "base_uri": "https://localhost:8080/"
        },
        "id": "rHUIynKpxu1r",
        "outputId": "687309ba-5548-4931-ae6c-73e7a6cfeef9"
      },
      "execution_count": null,
      "outputs": [
        {
          "output_type": "stream",
          "name": "stdout",
          "text": [
            "count     5.000000\n",
            "mean     30.000000\n",
            "std      15.811388\n",
            "min      10.000000\n",
            "25%      20.000000\n",
            "50%      30.000000\n",
            "75%      40.000000\n",
            "max      50.000000\n",
            "dtype: float64\n",
            "NumPy Mean: 30.0\n"
          ]
        }
      ]
    },
    {
      "cell_type": "markdown",
      "source": [
        "###16. Plot a boxplot to understand the spread and identify outliers."
      ],
      "metadata": {
        "id": "hOdunWcGyQRj"
      }
    },
    {
      "cell_type": "code",
      "source": [
        "import matplotlib.pyplot as plt\n",
        "\n",
        "plt.boxplot(data)\n",
        "plt.title(\"Boxplot\")\n",
        "plt.show()\n"
      ],
      "metadata": {
        "colab": {
          "base_uri": "https://localhost:8080/",
          "height": 452
        },
        "id": "v6vgwBLTyKbp",
        "outputId": "3a7a8595-186a-4f57-c592-9ee05ec57a53"
      },
      "execution_count": null,
      "outputs": [
        {
          "output_type": "display_data",
          "data": {
            "text/plain": [
              "<Figure size 640x480 with 1 Axes>"
            ],
            "image/png": "[encoded data removed]"
          },
          "metadata": {}
        }
      ]
    },
    {
      "cell_type": "markdown",
      "source": [
        "###17.  Calculate the interquartile range (IQR) of a dataset."
      ],
      "metadata": {
        "id": "IzHDr44by-tb"
      }
    },
    {
      "cell_type": "code",
      "source": [
        "Q1 = data.quantile(0.25)\n",
        "Q3 = data.quantile(0.75)\n",
        "IQR = Q3 - Q1\n",
        "print(\"IQR:\", IQR)\n"
      ],
      "metadata": {
        "colab": {
          "base_uri": "https://localhost:8080/"
        },
        "id": "qnn1A0qryNFB",
        "outputId": "83261a52-13a1-437e-915c-9eba8fdd4fe3"
      },
      "execution_count": null,
      "outputs": [
        {
          "output_type": "stream",
          "name": "stdout",
          "text": [
            "IQR: 20.0\n"
          ]
        }
      ]
    },
    {
      "cell_type": "markdown",
      "source": [
        "###18.Implement Z-score normalization and explain its significance."
      ],
      "metadata": {
        "id": "aV3ggrnVzBbq"
      }
    },
    {
      "cell_type": "code",
      "source": [
        "z_scores = (data - data.mean()) / data.std()\n",
        "print(\"Z-scores:\\n\", z_scores)\n",
        "\n",
        "# Significance: Z-scores standardize data to compare different datasets or detect outliers (|z| > 2 or 3)\n"
      ],
      "metadata": {
        "colab": {
          "base_uri": "https://localhost:8080/"
        },
        "id": "4ZELxQ04yWzN",
        "outputId": "882f02ac-20b1-4b5c-a7a9-5a6882fc0811"
      },
      "execution_count": null,
      "outputs": [
        {
          "output_type": "stream",
          "name": "stdout",
          "text": [
            "Z-scores:\n",
            " 0   -1.264911\n",
            "1   -0.632456\n",
            "2    0.000000\n",
            "3    0.632456\n",
            "4    1.264911\n",
            "dtype: float64\n"
          ]
        }
      ]
    },
    {
      "cell_type": "markdown",
      "source": [
        "###19. Compare two datasets using their standard deviations.\n"
      ],
      "metadata": {
        "id": "iziyBh-vzG1T"
      }
    },
    {
      "cell_type": "code",
      "source": [
        "data1 = pd.Series([10, 20, 30])\n",
        "data2 = pd.Series([10, 50, 90])\n",
        "\n",
        "print(\"Std Dev of Data 1:\", data1.std())\n",
        "print(\"Std Dev of Data 2:\", data2.std())\n"
      ],
      "metadata": {
        "colab": {
          "base_uri": "https://localhost:8080/"
        },
        "id": "cmrLZhUKyYoz",
        "outputId": "09fff7dc-4233-4b57-a17b-7cc989814ce7"
      },
      "execution_count": null,
      "outputs": [
        {
          "output_type": "stream",
          "name": "stdout",
          "text": [
            "Std Dev of Data 1: 10.0\n",
            "Std Dev of Data 2: 40.0\n"
          ]
        }
      ]
    },
    {
      "cell_type": "markdown",
      "source": [
        "###20. Write a Python program to visualize covariance using a heatmap."
      ],
      "metadata": {
        "id": "kyGwrWS3zL1C"
      }
    },
    {
      "cell_type": "code",
      "source": [
        "import seaborn as sns\n",
        "\n",
        "df = pd.DataFrame({'A': data1, 'B': data2})\n",
        "cov_matrix = df.cov()\n",
        "sns.heatmap(cov_matrix, annot=True, cmap='coolwarm')\n",
        "plt.title(\"Covariance Heatmap\")\n",
        "plt.show()\n"
      ],
      "metadata": {
        "colab": {
          "base_uri": "https://localhost:8080/",
          "height": 452
        },
        "id": "UqsRh0yVya_5",
        "outputId": "6d25c0ef-1d78-4ead-8929-02731503712f"
      },
      "execution_count": null,
      "outputs": [
        {
          "output_type": "display_data",
          "data": {
            "text/plain": [
              "<Figure size 640x480 with 2 Axes>"
            ],
            "image/png": "[encoded data removed]"
          },
          "metadata": {}
        }
      ]
    },
    {
      "cell_type": "markdown",
      "source": [
        "###21.  Use seaborn to create a correlation matrix for a dataset."
      ],
      "metadata": {
        "id": "K40qkloSzR2L"
      }
    },
    {
      "cell_type": "code",
      "source": [
        "cor_matrix = df.corr()\n",
        "sns.heatmap(cor_matrix, annot=True, cmap='YlGnBu')\n",
        "plt.title(\"Correlation Matrix\")\n",
        "plt.show()\n"
      ],
      "metadata": {
        "colab": {
          "base_uri": "https://localhost:8080/",
          "height": 452
        },
        "id": "DQhAQ5Xryc2l",
        "outputId": "3028ba4b-160e-43b5-a4cf-ae1efbfcbe72"
      },
      "execution_count": null,
      "outputs": [
        {
          "output_type": "display_data",
          "data": {
            "text/plain": [
              "<Figure size 640x480 with 2 Axes>"
            ],
            "image/png": "[encoded data removed]"
          },
          "metadata": {}
        }
      ]
    },
    {
      "cell_type": "markdown",
      "source": [
        "###22. Generate a dataset and implement both variance and standard deviation computations."
      ],
      "metadata": {
        "id": "-ogiKueizYNk"
      }
    },
    {
      "cell_type": "code",
      "source": [
        "generated_data = pd.Series(np.random.normal(100, 15, 100))\n",
        "print(\"Variance:\", generated_data.var())\n",
        "print(\"Standard Deviation:\", generated_data.std())\n"
      ],
      "metadata": {
        "colab": {
          "base_uri": "https://localhost:8080/"
        },
        "id": "RqD-f6TmykDE",
        "outputId": "307b6d35-7e49-4ad8-eb8c-c27e225cc117"
      },
      "execution_count": null,
      "outputs": [
        {
          "output_type": "stream",
          "name": "stdout",
          "text": [
            "Variance: 193.76324017346232\n",
            "Standard Deviation: 13.919886500020835\n"
          ]
        }
      ]
    },
    {
      "cell_type": "markdown",
      "source": [
        "###23. Visualize skewness and kurtosis using Python libraries like matplotlib or seaborn."
      ],
      "metadata": {
        "id": "6iTL8iztzc-J"
      }
    },
    {
      "cell_type": "code",
      "source": [
        "from scipy.stats import kurtosis, skew\n",
        "\n",
        "sns.histplot(generated_data, kde=True)\n",
        "plt.title(\"Distribution with KDE\")\n",
        "plt.show()\n",
        "\n",
        "print(\"Skewness:\", skew(generated_data))\n",
        "print(\"Kurtosis:\", kurtosis(generated_data))\n"
      ],
      "metadata": {
        "colab": {
          "base_uri": "https://localhost:8080/",
          "height": 487
        },
        "id": "l7mZAml9yl84",
        "outputId": "9297f882-0b3a-4e92-ea8f-17d83a6a207b"
      },
      "execution_count": null,
      "outputs": [
        {
          "output_type": "display_data",
          "data": {
            "text/plain": [
              "<Figure size 640x480 with 1 Axes>"
            ],
            "image/png": "[encoded data removed]"
          },
          "metadata": {}
        },
        {
          "output_type": "stream",
          "name": "stdout",
          "text": [
            "Skewness: 0.11352773678683588\n",
            "Kurtosis: -0.35874538273033885\n"
          ]
        }
      ]
    },
    {
      "cell_type": "markdown",
      "source": [
        "###24.  Implement the Pearson and Spearman correlation coefficients for a dataset."
      ],
      "metadata": {
        "id": "y7TUdEe6zg8b"
      }
    },
    {
      "cell_type": "code",
      "source": [
        "from scipy.stats import pearsonr, spearmanr\n",
        "\n",
        "x = pd.Series([1, 2, 3, 4, 5])\n",
        "y = pd.Series([10, 20, 30, 25, 50])\n",
        "\n",
        "pearson_corr, _ = pearsonr(x, y)\n",
        "spearman_corr, _ = spearmanr(x, y)\n",
        "\n",
        "print(\"Pearson Correlation:\", pearson_corr)\n",
        "print(\"Spearman Correlation:\", spearman_corr)\n"
      ],
      "metadata": {
        "colab": {
          "base_uri": "https://localhost:8080/"
        },
        "id": "ahkxQ4-HyqoS",
        "outputId": "5dd7eb44-025c-47c5-fcc3-31491b306e29"
      },
      "execution_count": null,
      "outputs": [
        {
          "output_type": "stream",
          "name": "stdout",
          "text": [
            "Pearson Correlation: 0.9061030445113444\n",
            "Spearman Correlation: 0.8999999999999998\n"
          ]
        }
      ]
    }
  ]
}